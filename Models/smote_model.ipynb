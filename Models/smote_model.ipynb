{
 "cells": [
  {
   "cell_type": "code",
   "execution_count": 23,
   "id": "1900d245",
   "metadata": {},
   "outputs": [],
   "source": [
    "import pandas as pd\n",
    "from imblearn.over_sampling import SMOTE\n",
    "from sklearn.linear_model import LogisticRegression\n",
    "from collections import Counter\n",
    "from sklearn.metrics import classification_report, f1_score\n",
    "from imblearn.pipeline import Pipeline\n",
    "from sklearn.model_selection import StratifiedKFold, GridSearchCV"
   ]
  },
  {
   "cell_type": "code",
   "execution_count": 2,
   "id": "7ce139ed",
   "metadata": {},
   "outputs": [],
   "source": [
    "\n",
    "X_train = 'D:/Python/Hydraulic Rig Dataset/Data/X_train_pickled.pkl'\n",
    "X_test = 'D:/Python/Hydraulic Rig Dataset/Data/X_test_pickled.pkl'\n",
    "y_train = 'D:/Python/Hydraulic Rig Dataset/Data/y_train_pickled.pkl'\n",
    "y_test = 'D:/Python/Hydraulic Rig Dataset/Data/y_test_pickled.pkl'"
   ]
  },
  {
   "cell_type": "code",
   "execution_count": 3,
   "id": "2adee4d0",
   "metadata": {},
   "outputs": [],
   "source": [
    "X_train = pd.read_pickle(X_train)\n",
    "X_test = pd.read_pickle(X_test)\n",
    "y_train= pd.read_pickle(y_train)\n",
    "y_test = pd.read_pickle(y_test)\n"
   ]
  },
  {
   "cell_type": "code",
   "execution_count": 20,
   "id": "6257328b",
   "metadata": {},
   "outputs": [],
   "source": [
    "pipeline = Pipeline([\n",
    "    ('smote', SMOTE(random_state=1)),\n",
    "    ('clf', LogisticRegression(solver='liblinear', random_state=1))\n",
    "])\n",
    "\n",
    "param_grid = {\n",
    "    'smote__k_neighbors': [3, 5, 7],\n",
    "    'clf__C': [0.01, 0.1, 1, 10],              # regularization strength\n",
    "    'clf__penalty': ['l1', 'l2']               # L1 vs L2 regularization\n",
    "}\n",
    "\n",
    "\n",
    "cv = StratifiedKFold(n_splits=5, shuffle=True, random_state=42)\n",
    "\n",
    "grid = GridSearchCV(\n",
    "    pipeline,\n",
    "    param_grid,\n",
    "    scoring='f1',   \n",
    "    cv=cv,\n",
    "    n_jobs=-1,\n",
    "    verbose=1)"
   ]
  },
  {
   "cell_type": "code",
   "execution_count": 21,
   "id": "a68c2414",
   "metadata": {},
   "outputs": [
    {
     "name": "stdout",
     "output_type": "stream",
     "text": [
      "Fitting 5 folds for each of 24 candidates, totalling 120 fits\n",
      "Best parameters: {'clf__C': 10, 'clf__penalty': 'l1', 'smote__k_neighbors': 5}\n",
      "Best CV F1: 0.9477293180064219\n"
     ]
    }
   ],
   "source": [
    "grid.fit(X_train, y_train)\n",
    "\n",
    "print(\"Best parameters:\", grid.best_params_)\n",
    "print(\"Best CV F1:\", grid.best_score_)\n"
   ]
  },
  {
   "cell_type": "code",
   "execution_count": 24,
   "id": "8703be21",
   "metadata": {},
   "outputs": [
    {
     "name": "stdout",
     "output_type": "stream",
     "text": [
      "Train F1 (class 1): 1.0\n",
      "Train classification report:\n",
      "              precision    recall  f1-score   support\n",
      "\n",
      "           0       1.00      1.00      1.00      1159\n",
      "           1       1.00      1.00      1.00       605\n",
      "\n",
      "    accuracy                           1.00      1764\n",
      "   macro avg       1.00      1.00      1.00      1764\n",
      "weighted avg       1.00      1.00      1.00      1764\n",
      "\n",
      "Test F1 (class 1): 0.9383561643835615\n",
      "Test classification report:\n",
      "              precision    recall  f1-score   support\n",
      "\n",
      "           0       0.95      0.99      0.97       290\n",
      "           1       0.97      0.91      0.94       151\n",
      "\n",
      "    accuracy                           0.96       441\n",
      "   macro avg       0.96      0.95      0.95       441\n",
      "weighted avg       0.96      0.96      0.96       441\n",
      "\n"
     ]
    }
   ],
   "source": [
    "y_train_pred = grid.predict(X_train)\n",
    "train_f1_class1 = f1_score(y_train, y_train_pred, pos_label=1)\n",
    "print(\"Train F1 (class 1):\", train_f1_class1)\n",
    "print(\"Train classification report:\")\n",
    "print(classification_report(y_train, y_train_pred))\n",
    "\n",
    "# 2) Test‐set metrics\n",
    "y_test_pred = grid.predict(X_test)\n",
    "test_f1_class1 = f1_score(y_test, y_test_pred, pos_label=1)\n",
    "print(\"Test F1 (class 1):\", test_f1_class1)\n",
    "print(\"Test classification report:\")\n",
    "print(classification_report(y_test, y_test_pred))"
   ]
  }
 ],
 "metadata": {
  "kernelspec": {
   "display_name": "Python 3",
   "language": "python",
   "name": "python3"
  },
  "language_info": {
   "codemirror_mode": {
    "name": "ipython",
    "version": 3
   },
   "file_extension": ".py",
   "mimetype": "text/x-python",
   "name": "python",
   "nbconvert_exporter": "python",
   "pygments_lexer": "ipython3",
   "version": "3.8.18"
  }
 },
 "nbformat": 4,
 "nbformat_minor": 5
}
