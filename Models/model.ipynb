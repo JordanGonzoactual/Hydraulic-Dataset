{
 "cells": [
  {
   "cell_type": "code",
   "execution_count": 3,
   "id": "de78f9a3",
   "metadata": {},
   "outputs": [],
   "source": [
    "from sklearn.linear_model import LogisticRegressionCV\n",
    "import pandas as pd\n",
    "from sklearn.metrics import classification_report, roc_curve, RocCurveDisplay, auc\n",
    "import matplotlib.pyplot as plt"
   ]
  },
  {
   "cell_type": "code",
   "execution_count": 4,
   "id": "b94fbb41",
   "metadata": {},
   "outputs": [],
   "source": [
    "# Load pickled Datasets\n",
    "X_train = 'D:/Python/Hydraulic Rig Dataset/Data/X_train_pickled.pkl'\n",
    "X_test = 'D:/Python/Hydraulic Rig Dataset/Data/X_test_pickled.pkl'\n",
    "y_train = 'D:/Python/Hydraulic Rig Dataset/Data/y_train_pickled.pkl'\n",
    "y_test = 'D:/Python/Hydraulic Rig Dataset/Data/y_test_pickled.pkl'\n"
   ]
  },
  {
   "cell_type": "code",
   "execution_count": 5,
   "id": "08006f8a",
   "metadata": {},
   "outputs": [],
   "source": [
    "X_train = pd.read_pickle(X_train)\n",
    "X_test = pd.read_pickle(X_test)\n",
    "y_train= pd.read_pickle(y_train)\n",
    "y_test = pd.read_pickle(y_test)\n"
   ]
  },
  {
   "cell_type": "code",
   "execution_count": 6,
   "id": "cf0e1a13",
   "metadata": {},
   "outputs": [
    {
     "name": "stdout",
     "output_type": "stream",
     "text": [
      "(1764, 9996)\n",
      "(441, 9996)\n",
      "(1764,)\n",
      "(441,)\n"
     ]
    }
   ],
   "source": [
    "print(X_train.shape)\n",
    "print(X_test.shape)\n",
    "print(y_train.shape)\n",
    "print(y_test.shape)"
   ]
  },
  {
   "cell_type": "code",
   "execution_count": null,
   "id": "2a2b366f",
   "metadata": {},
   "outputs": [],
   "source": [
    "# Logistic Regression CV model\n",
    "model = LogisticRegressionCV(cv=5, max_iter=1000)\n",
    "model.fit(X_train, y_train)\n",
    "\n",
    " # Best regularization parameter\n",
    "print(f\"Best C: {model.C_}\")\n",
    "\n",
    "\n",
    "train_accuracy = model.score(X_train, y_train)\n",
    "print(f\"Training Accuracy: {train_accuracy:.2f}\")\n",
    "\n",
    "# Evaluate the model on the test data (test accuracy)\n",
    "test_accuracy = model.score(X_test, y_test)\n",
    "print(f\"Test Accuracy: {test_accuracy:.2f}\")\n"
   ]
  },
  {
   "cell_type": "code",
   "execution_count": null,
   "id": "ee487769",
   "metadata": {},
   "outputs": [
    {
     "name": "stdout",
     "output_type": "stream",
     "text": [
      "\n",
      "Classification Report for Training Set:\n",
      "               precision    recall  f1-score   support\n",
      "\n",
      "           0       1.00      1.00      1.00      1159\n",
      "           1       1.00      1.00      1.00       605\n",
      "\n",
      "    accuracy                           1.00      1764\n",
      "   macro avg       1.00      1.00      1.00      1764\n",
      "weighted avg       1.00      1.00      1.00      1764\n",
      "\n",
      "\n",
      "Classification Report for Test Set:\n",
      "               precision    recall  f1-score   support\n",
      "\n",
      "           0       0.95      0.99      0.97       290\n",
      "           1       0.99      0.89      0.94       151\n",
      "\n",
      "    accuracy                           0.96       441\n",
      "   macro avg       0.97      0.94      0.95       441\n",
      "weighted avg       0.96      0.96      0.96       441\n",
      "\n"
     ]
    }
   ],
   "source": [
    "# Make predictions on the training set\n",
    "y_train_pred = model.predict(X_train)\n",
    "\n",
    "# Generate the classification report for the training set\n",
    "report_train = classification_report(y_train, y_train_pred)\n",
    "print(\"\\nClassification Report for Training Set:\\n\", report_train)\n",
    "\n",
    "# Make predictions on the test set\n",
    "y_test_pred = model.predict(X_test)\n",
    "\n",
    "# Generate the classification report for the test set\n",
    "report_test = classification_report(y_test, y_test_pred)\n",
    "print(\"\\nClassification Report for Test Set:\\n\", report_test)"
   ]
  },
  {
   "cell_type": "code",
   "execution_count": null,
   "id": "22f04cca",
   "metadata": {},
   "outputs": [
    {
     "ename": "NameError",
     "evalue": "name 'model' is not defined",
     "output_type": "error",
     "traceback": [
      "\u001b[1;31m---------------------------------------------------------------------------\u001b[0m",
      "\u001b[1;31mNameError\u001b[0m                                 Traceback (most recent call last)",
      "Cell \u001b[1;32mIn[2], line 2\u001b[0m\n\u001b[0;32m      1\u001b[0m \u001b[38;5;66;03m#  Get predicted probabilities for the positive class\u001b[39;00m\n\u001b[1;32m----> 2\u001b[0m y_train_proba \u001b[38;5;241m=\u001b[39m \u001b[43mmodel\u001b[49m\u001b[38;5;241m.\u001b[39mpredict_proba(X_train)[:, \u001b[38;5;241m1\u001b[39m]\n\u001b[0;32m      3\u001b[0m y_test_proba  \u001b[38;5;241m=\u001b[39m model\u001b[38;5;241m.\u001b[39mpredict_proba(X_test)[:, \u001b[38;5;241m1\u001b[39m]\n\u001b[0;32m      5\u001b[0m \u001b[38;5;66;03m#  Compute ROC curve metrics\u001b[39;00m\n",
      "\u001b[1;31mNameError\u001b[0m: name 'model' is not defined"
     ]
    }
   ],
   "source": [
    "#  Get predicted probabilities for the positive class\n",
    "y_train_proba = model.predict_proba(X_train)[:, 1]\n",
    "y_test_proba  = model.predict_proba(X_test)[:, 1]\n",
    "\n",
    "#  Compute ROC curve metrics\n",
    "fpr_train, tpr_train, _ = roc_curve(y_train, y_train_proba, pos_label=1)\n",
    "fpr_test,  tpr_test,  _ = roc_curve(y_test,  y_test_proba,  pos_label=1)\n",
    "\n",
    "#  Compute AUC scores\n",
    "auc_train = auc(fpr_train, tpr_train)\n",
    "auc_test  = auc(fpr_test,  tpr_test)\n",
    "\n",
    "print(f\"Train ROC AUC: {auc_train:.3f}\")\n",
    "print(f\"Test  ROC AUC: {auc_test:.3f}\")\n"
   ]
  },
  {
   "cell_type": "code",
   "execution_count": null,
   "id": "b681cf6e",
   "metadata": {},
   "outputs": [],
   "source": [
    "#  Plot both curves\n",
    "plt.figure(figsize=(8, 6))\n",
    "plt.plot(fpr_train, tpr_train, label=f\"Train (AUC = {auc_train:.3f})\")\n",
    "plt.plot(fpr_test,  tpr_test,  label=f\"Test  (AUC = {auc_test:.3f})\")\n",
    "plt.plot([0, 1], [0, 1], 'k--', label=\"Chance (AUC = 0.5)\")\n",
    "plt.xlabel(\"False Positive Rate\")\n",
    "plt.ylabel(\"True Positive Rate\")\n",
    "plt.title(\"ROC Curves for SMOTE + Logistic Regression Pipeline\")\n",
    "plt.legend(loc=\"lower right\")\n",
    "plt.grid(True)\n",
    "plt.show()"
   ]
  }
 ],
 "metadata": {
  "kernelspec": {
   "display_name": "Python 3",
   "language": "python",
   "name": "python3"
  },
  "language_info": {
   "codemirror_mode": {
    "name": "ipython",
    "version": 3
   },
   "file_extension": ".py",
   "mimetype": "text/x-python",
   "name": "python",
   "nbconvert_exporter": "python",
   "pygments_lexer": "ipython3",
   "version": "3.8.18"
  }
 },
 "nbformat": 4,
 "nbformat_minor": 5
}
