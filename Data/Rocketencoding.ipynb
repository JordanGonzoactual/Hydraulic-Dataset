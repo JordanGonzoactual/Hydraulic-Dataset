{
 "cells": [
  {
   "cell_type": "code",
   "execution_count": 25,
   "id": "ef68f05a",
   "metadata": {},
   "outputs": [],
   "source": [
    "from sktime.transformations.panel.rocket import MiniRocketMultivariate\n",
    "from sklearn.model_selection import train_test_split\n",
    "import pandas as pd\n",
    "import pickle\n",
    "import numba\n",
    "from sklearn.preprocessing import MinMaxScaler\n",
    "\n"
   ]
  },
  {
   "cell_type": "code",
   "execution_count": 20,
   "id": "f81e50d6",
   "metadata": {},
   "outputs": [
    {
     "name": "stdout",
     "output_type": "stream",
     "text": [
      "     CE_1    CE_2    CE_3    CE_4    CE_5    CE_6    CE_7    CE_8    CE_9  \\\n",
      "0  47.202  47.273  47.250  47.332  47.213  47.372  47.273  47.438  46.691   \n",
      "1  29.208  28.822  28.805  28.922  28.591  28.643  28.216  27.812  27.514   \n",
      "2  23.554  23.521  23.527  23.008  23.042  23.052  22.658  22.952  22.908   \n",
      "3  21.540  21.419  21.565  20.857  21.052  21.039  20.926  20.912  20.989   \n",
      "4  20.460  20.298  20.350  19.867  19.997  19.972  19.924  19.813  19.691   \n",
      "\n",
      "    CE_10  ...  VS1_51  VS1_52  VS1_53  VS1_54  VS1_55  VS1_56  VS1_57  \\\n",
      "0  46.599  ...   0.554   0.552   0.545   0.553   0.553   0.539   0.544   \n",
      "1  27.481  ...   0.555   0.547   0.548   0.544   0.536   0.542   0.540   \n",
      "2  22.359  ...   0.543   0.544   0.543   0.554   0.544   0.544   0.545   \n",
      "3  20.882  ...   0.549   0.538   0.553   0.543   0.553   0.555   0.544   \n",
      "4  19.634  ...   0.546   0.546   0.544   0.552   0.539   0.540   0.549   \n",
      "\n",
      "   VS1_58  VS1_59  VS1_60  \n",
      "0   0.545   0.535   0.543  \n",
      "1   0.533   0.531   0.534  \n",
      "2   0.544   0.530   0.534  \n",
      "3   0.543   0.543   0.542  \n",
      "4   0.542   0.533   0.537  \n",
      "\n",
      "[5 rows x 43680 columns]\n",
      "Index(['Target'], dtype='object')\n"
     ]
    }
   ],
   "source": [
    "\n",
    "df = 'D:/Python/Hydraulic Rig Dataset/Data/sensor_data_df.pkl'\n",
    "target_df ='D:/Python/Hydraulic Rig Dataset/Data/profile_df.pkl'\n",
    "\n",
    "\n",
    "target_data = pd.read_pickle(target_df)\n",
    "data = pd.read_pickle(df)\n",
    "data.dropna(inplace=True)\n",
    "target_data.dropna(inplace=True)\n",
    "print(data.head(5))\n",
    "print(target_data.columns)\n"
   ]
  },
  {
   "cell_type": "code",
   "execution_count": 21,
   "id": "95b9ed6c",
   "metadata": {},
   "outputs": [
    {
     "name": "stdout",
     "output_type": "stream",
     "text": [
      "     CE_1    CE_2    CE_3    CE_4    CE_5    CE_6    CE_7    CE_8    CE_9  \\\n",
      "0  47.202  47.273  47.250  47.332  47.213  47.372  47.273  47.438  46.691   \n",
      "1  29.208  28.822  28.805  28.922  28.591  28.643  28.216  27.812  27.514   \n",
      "2  23.554  23.521  23.527  23.008  23.042  23.052  22.658  22.952  22.908   \n",
      "3  21.540  21.419  21.565  20.857  21.052  21.039  20.926  20.912  20.989   \n",
      "4  20.460  20.298  20.350  19.867  19.997  19.972  19.924  19.813  19.691   \n",
      "\n",
      "    CE_10  ...  VS1_52  VS1_53  VS1_54  VS1_55  VS1_56  VS1_57  VS1_58  \\\n",
      "0  46.599  ...   0.552   0.545   0.553   0.553   0.539   0.544   0.545   \n",
      "1  27.481  ...   0.547   0.548   0.544   0.536   0.542   0.540   0.533   \n",
      "2  22.359  ...   0.544   0.543   0.554   0.544   0.544   0.545   0.544   \n",
      "3  20.882  ...   0.538   0.553   0.543   0.553   0.555   0.544   0.543   \n",
      "4  19.634  ...   0.546   0.544   0.552   0.539   0.540   0.549   0.542   \n",
      "\n",
      "   VS1_59  VS1_60  Target  \n",
      "0   0.535   0.543       1  \n",
      "1   0.531   0.534       1  \n",
      "2   0.530   0.534       1  \n",
      "3   0.543   0.542       1  \n",
      "4   0.533   0.537       1  \n",
      "\n",
      "[5 rows x 43681 columns]\n"
     ]
    }
   ],
   "source": [
    "df_combined =pd.concat([data, target_data], axis=1)\n",
    "print(df_combined.head(5))"
   ]
  },
  {
   "cell_type": "code",
   "execution_count": 22,
   "id": "9770287b",
   "metadata": {},
   "outputs": [
    {
     "name": "stdout",
     "output_type": "stream",
     "text": [
      "CE_1      float64\n",
      "CE_2      float64\n",
      "CE_3      float64\n",
      "CE_4      float64\n",
      "CE_5      float64\n",
      "           ...   \n",
      "VS1_56    float64\n",
      "VS1_57    float64\n",
      "VS1_58    float64\n",
      "VS1_59    float64\n",
      "VS1_60    float64\n",
      "Length: 43680, dtype: object\n",
      "int64\n"
     ]
    }
   ],
   "source": [
    "X = df_combined.drop(columns=['Target'])\n",
    "y = df_combined['Target']\n",
    "\n",
    "X_train, X_test, y_train, y_test = train_test_split(X, y, test_size=0.2, random_state=1, stratify=y)\n",
    "\n",
    "print(X.dtypes)\n",
    "print(y.dtypes)\n",
    "\n",
    "X_train_np = X_train.to_numpy()  # Convert to NumPy array\n",
    "X_test_np = X_test.to_numpy()\n"
   ]
  },
  {
   "cell_type": "code",
   "execution_count": 23,
   "id": "9eadd860",
   "metadata": {},
   "outputs": [],
   "source": [
    "# Apply MiniROCKET (multivariate version)\n",
    "rocket = MiniRocketMultivariate(num_kernels=10000)\n",
    "rocket.fit(X_train_np)\n",
    "X_train_transformed = rocket.transform(X_train_np)\n",
    "X_test_transformed = rocket.transform(X_test_np)"
   ]
  },
  {
   "cell_type": "code",
   "execution_count": null,
   "id": "ab1225af",
   "metadata": {},
   "outputs": [],
   "source": [
    "scaler = MinMaxScaler()\n",
    "X_train_scaled = scaler.fit_transform(X_train_transformed)\n",
    "X_test_scaled = scaler.transform(X_test_transformed)"
   ]
  }
 ],
 "metadata": {
  "kernelspec": {
   "display_name": "Python 3",
   "language": "python",
   "name": "python3"
  },
  "language_info": {
   "codemirror_mode": {
    "name": "ipython",
    "version": 3
   },
   "file_extension": ".py",
   "mimetype": "text/x-python",
   "name": "python",
   "nbconvert_exporter": "python",
   "pygments_lexer": "ipython3",
   "version": "3.8.18"
  }
 },
 "nbformat": 4,
 "nbformat_minor": 5
}
